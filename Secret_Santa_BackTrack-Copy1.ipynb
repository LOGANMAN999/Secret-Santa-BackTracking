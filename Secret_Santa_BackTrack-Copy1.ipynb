{
 "cells": [
  {
   "cell_type": "code",
   "execution_count": 1,
   "id": "814f79fb",
   "metadata": {},
   "outputs": [
    {
     "name": "stdout",
     "output_type": "stream",
     "text": [
      "[[ 0 -1  4 -1 -1 -1 -1 -1  3  1 -1  2 -1  5 -1 -1]\n",
      " [ 4  0 -1 -1  1 -1  5 -1 -1 -1  2 -1 -1 -1  3 -1]\n",
      " [-1 -1  0  4  2 -1 -1 -1 -1  3 -1  5 -1  1 -1 -1]\n",
      " [-1  3  2  0 -1 -1 -1 -1  1  4 -1 -1 -1 -1  5 -1]\n",
      " [ 3 -1 -1 -1  0 -1 -1 -1 -1  2 -1  1 -1  4 -1  5]\n",
      " [ 5 -1 -1 -1 -1  0 -1  1  4 -1  3 -1 -1 -1 -1 -1]\n",
      " [-1 -1 -1  5 -1  4  0 -1 -1 -1 -1  3  2 -1 -1  1]\n",
      " [ 1 -1 -1 -1  5 -1 -1  0  2 -1 -1 -1  4 -1 -1  3]\n",
      " [-1 -1  1 -1  3 -1 -1  4  0 -1  5 -1 -1 -1 -1  2]\n",
      " [-1  2  5 -1 -1 -1  1 -1 -1  0 -1  4 -1  3 -1 -1]\n",
      " [-1  5 -1  3  4 -1  2 -1 -1 -1  0 -1 -1 -1 -1 -1]\n",
      " [-1  4 -1  1 -1 -1 -1  3  5 -1 -1  0 -1  2 -1 -1]\n",
      " [-1  1 -1 -1 -1  3 -1  2 -1  5 -1 -1  0 -1  4 -1]\n",
      " [-1 -1 -1  2 -1  1  3 -1 -1 -1  4 -1  5  0 -1 -1]\n",
      " [-1 -1 -1 -1 -1  5 -1 -1 -1 -1 -1 -1  3 -1  0  4]\n",
      " [ 2 -1  3 -1 -1 -1  4  5 -1 -1 -1 -1  1 -1 -1  0]]\n"
     ]
    }
   ],
   "source": [
    "import numpy as np\n",
    "import pandas as pd\n",
    "import random\n",
    "import smtplib\n",
    "from email.mime.multipart import MIMEMultipart\n",
    "from email.mime.text import MIMEText\n",
    "\n",
    "matrix = np.loadtxt('matrix.txt')\n",
    "matrix = matrix.astype(int)\n",
    "print(matrix)\n"
   ]
  },
  {
   "cell_type": "code",
   "execution_count": 2,
   "id": "2820a0bd",
   "metadata": {},
   "outputs": [],
   "source": [
    "h, w = matrix.shape\n",
    "possible_partners = [[] for _ in range(h)]\n",
    "for i in range(h):\n",
    "    inner_list = []\n",
    "    for j in range(w):\n",
    "        if matrix[i][j] == -1:\n",
    "            inner_list.append(j)\n",
    "    possible_partners[i] = inner_list\n",
    "\n",
    "# Choose a partner that a person hasn't had before\n",
    "def choose_partner(possible_partners, gifter):\n",
    "    partner = random.choice(possible_partners[gifter])\n",
    "    return partner\n",
    "\n",
    "# Check to see if that person has already been used\n",
    "def is_valid(matrix, reciever, year, tried):\n",
    "    for i in range(0,16):\n",
    "        if reciever in tried[i]:\n",
    "            return False\n",
    "        if matrix.T[reciever][i] == year:\n",
    "            return False\n",
    "        \n",
    "    return True\n"
   ]
  },
  {
   "cell_type": "code",
   "execution_count": 3,
   "id": "0fd9a09f",
   "metadata": {},
   "outputs": [
    {
     "name": "stdout",
     "output_type": "stream",
     "text": [
      "[[ 0 -1  4 -1 -1 -1 -1  6  3  1 -1  2 -1  5 -1 -1]\n",
      " [ 4  0 -1  6  1 -1  5 -1 -1 -1  2 -1 -1 -1  3 -1]\n",
      " [-1 -1  0  4  2 -1 -1 -1 -1  3 -1  5 -1  1  6 -1]\n",
      " [ 6  3  2  0 -1 -1 -1 -1  1  4 -1 -1 -1 -1  5 -1]\n",
      " [ 3  6 -1 -1  0 -1 -1 -1 -1  2 -1  1 -1  4 -1  5]\n",
      " [ 5 -1  6 -1 -1  0 -1  1  4 -1  3 -1 -1 -1 -1 -1]\n",
      " [-1 -1 -1  5  6  4  0 -1 -1 -1 -1  3  2 -1 -1  1]\n",
      " [ 1 -1 -1 -1  5 -1 -1  0  2 -1  6 -1  4 -1 -1  3]\n",
      " [-1 -1  1 -1  3 -1 -1  4  0  6  5 -1 -1 -1 -1  2]\n",
      " [-1  2  5 -1 -1 -1  1 -1 -1  0 -1  4 -1  3 -1  6]\n",
      " [-1  5 -1  3  4 -1  2 -1 -1 -1  0 -1  6 -1 -1 -1]\n",
      " [-1  4 -1  1 -1  6 -1  3  5 -1 -1  0 -1  2 -1 -1]\n",
      " [-1  1 -1 -1 -1  3 -1  2  6  5 -1 -1  0 -1  4 -1]\n",
      " [-1 -1 -1  2 -1  1  3 -1 -1 -1  4  6  5  0 -1 -1]\n",
      " [-1 -1 -1 -1 -1  5  6 -1 -1 -1 -1 -1  3 -1  0  4]\n",
      " [ 2 -1  3 -1 -1 -1  4  5 -1 -1 -1 -1  1  6 -1  0]]\n"
     ]
    }
   ],
   "source": [
    "tried = [[] for _ in range(h)]\n",
    "\n",
    "def assign_partners(matrix, possible_partners, year, tried, index=0):\n",
    "    if index == len(matrix):\n",
    "        return True  # All partners have been assigned\n",
    "    random.shuffle(possible_partners[index])\n",
    "    for reciever in possible_partners[index]:\n",
    "        if is_valid(matrix, reciever, year, tried):\n",
    "            matrix[index][reciever] = year\n",
    "            tried[index].append(reciever)\n",
    "            possible_partners[index].remove(reciever)\n",
    "\n",
    "            if assign_partners(matrix, possible_partners, year, tried, index + 1):\n",
    "                return True  # Recurse\n",
    "\n",
    "            matrix[index][reciever] = -1  # Undo assignment\n",
    "            tried[index].remove(reciever)  # Undo assignment\n",
    "            possible_partners[index].append(reciever)\n",
    "\n",
    "    return False\n",
    "index = 0\n",
    "remaining_years = [i for i in range(6,16)]\n",
    "for year in remaining_years:\n",
    "    assign_partners(matrix, possible_partners, year, tried, index)\n",
    "\n",
    "print(matrix)"
   ]
  },
  {
   "cell_type": "code",
   "execution_count": 4,
   "id": "213229e9",
   "metadata": {},
   "outputs": [
    {
     "name": "stdout",
     "output_type": "stream",
     "text": [
      "[[10, 12, 4, 15, 14, 1, 6, 5, 3], [13, 9, 11, 15, 8, 12, 5, 7, 2], [7, 1, 5, 10, 8, 15, 0, 6, 12], [6, 11, 4, 10, 13, 12, 15, 5, 7], [7, 5, 10, 8, 14, 3, 2, 12, 6], [3, 15, 13, 14, 1, 4, 6, 9, 12, 11], [7, 2, 0, 14, 10, 13, 8, 9, 1], [13, 9, 2, 11, 5, 6, 1, 3, 14], [6, 11, 0, 12, 5, 14, 1, 13, 3], [7, 0, 14, 12, 3, 10, 5, 8, 4], [9, 13, 2, 14, 0, 11, 5, 15, 8, 7], [10, 12, 15, 6, 2, 0, 4, 9, 14], [13, 10, 3, 4, 15, 2, 6, 0, 11], [2, 7, 9, 15, 4, 8, 14, 1, 0], [11, 2, 7, 10, 4, 0, 3, 8, 9, 1, 13], [14, 9, 4, 10, 5, 11, 3, 1, 8]]\n"
     ]
    }
   ],
   "source": [
    "print(possible_partners)"
   ]
  },
  {
   "cell_type": "code",
   "execution_count": 5,
   "id": "d10b09db",
   "metadata": {},
   "outputs": [],
   "source": [
    "# Run this cell to save the current matrix to a text file \n",
    "# to use for the next year\n",
    "\n",
    "np.savetxt('matrix_year_6.txt', matrix, fmt='%d')"
   ]
  },
  {
   "cell_type": "code",
   "execution_count": 9,
   "id": "6e93567e",
   "metadata": {},
   "outputs": [
    {
     "data": {
      "text/plain": [
       "(221,\n",
       " b'2.0.0 closing connection t5-20020ab04ac5000000b007ab975b8eb9sm1308403uae.10 - gsmtp')"
      ]
     },
     "execution_count": 9,
     "metadata": {},
     "output_type": "execute_result"
    }
   ],
   "source": [
    "name_dictionary = {0:\"Logan\", 1:\"Matt\", 2:\"Jake\", 3:\"Kyle\", 4:\"Manny\", 5:\"Brett\", 6:\"Garrett\", 7:\"Steve\", 8:\"Nicky\",\n",
    "                  9:\"Joel\", 10:\"Nico\", 11:\"Will\", 12:\"Paul\", 13:\"Riley\", 14:\"Ben\", 15:\"Samie\"}\n",
    "email_dictionary = {0:\"#\", 1:\"#\", 2:\"#\", 3:\"#\",\n",
    "                   4:\"#\", 5:\"#\", 6:\"#\",\n",
    "                   7:\"#\", 8:\"#\", 9:\"#\", 10:\"#\",\n",
    "                   11:\"#\", 12:\"#\", 13:\"#\", 14:\"#\",\n",
    "                   15:\"#\"}\n",
    "\n",
    "password = \"#\"\n",
    "#msg['From'] = \"logansingerman@gmail.com\"\n",
    "server = smtplib.SMTP('smtp.gmail.com',587)\n",
    "server.starttls()\n",
    "server.login(\"#\", password)\n",
    "\n",
    "current_year = 6\n",
    "# Put this in for loop to send all emails\n",
    "for i in range(0,16):\n",
    "    for j in range(0,16):\n",
    "        if matrix[i][j] == current_year:\n",
    "            msg = MIMEMultipart()\n",
    "            msg['From'] = \"#\"\n",
    "            msg['To'] = email_dictionary[i]\n",
    "            msg['Subject'] = \"Secret Santa\"\n",
    "            person = name_dictionary[j]\n",
    "            message = f\"You have {person} for secret santa\"\n",
    "            msg.attach(MIMEText(message, 'plain'))\n",
    "            server.sendmail(msg['From'], msg['To'], msg.as_string())\n",
    "server.quit()\n",
    "            \n",
    "            \n"
   ]
  },
  {
   "cell_type": "code",
   "execution_count": null,
   "id": "835c9521",
   "metadata": {},
   "outputs": [],
   "source": []
  },
  {
   "cell_type": "code",
   "execution_count": null,
   "id": "196b7255",
   "metadata": {},
   "outputs": [],
   "source": []
  }
 ],
 "metadata": {
  "kernelspec": {
   "display_name": "Python 3 (ipykernel)",
   "language": "python",
   "name": "python3"
  },
  "language_info": {
   "codemirror_mode": {
    "name": "ipython",
    "version": 3
   },
   "file_extension": ".py",
   "mimetype": "text/x-python",
   "name": "python",
   "nbconvert_exporter": "python",
   "pygments_lexer": "ipython3",
   "version": "3.9.16"
  }
 },
 "nbformat": 4,
 "nbformat_minor": 5
}
