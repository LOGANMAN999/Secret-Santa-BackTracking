{
 "cells": [
  {
   "cell_type": "code",
   "execution_count": 243,
   "id": "814f79fb",
   "metadata": {},
   "outputs": [
    {
     "name": "stdout",
     "output_type": "stream",
     "text": [
      "[[ 0 -1  4 -1 -1 -1 -1 -1  3  1 -1  2 -1  5 -1 -1]\n",
      " [ 4  0 -1 -1  1 -1  5 -1 -1 -1  2 -1 -1 -1  3 -1]\n",
      " [-1 -1  0  4  2 -1 -1 -1 -1  3 -1  5 -1  1 -1 -1]\n",
      " [-1  3  2  0 -1 -1 -1 -1  1  4 -1 -1 -1 -1  5 -1]\n",
      " [ 3 -1 -1 -1  0 -1 -1 -1 -1  2 -1  1 -1  4 -1  5]\n",
      " [ 5 -1 -1 -1 -1  0 -1  1  4 -1  3 -1 -1 -1 -1 -1]\n",
      " [-1 -1 -1  5 -1  4  0 -1 -1 -1 -1  3  2 -1 -1  1]\n",
      " [ 1 -1 -1 -1  5 -1 -1  0  2 -1 -1 -1  4 -1 -1  3]\n",
      " [-1 -1  1 -1  3 -1 -1  4  0 -1  5 -1 -1 -1 -1  2]\n",
      " [-1  2  5 -1 -1 -1  1 -1 -1  0 -1  4 -1  3 -1 -1]\n",
      " [-1  5 -1  3  4 -1  2 -1 -1 -1  0 -1 -1 -1 -1 -1]\n",
      " [-1  4 -1  1 -1 -1 -1  3  5 -1 -1  0 -1  2 -1 -1]\n",
      " [-1  1 -1 -1 -1  3 -1  2 -1  5 -1 -1  0 -1  4 -1]\n",
      " [-1 -1 -1  2 -1  1  3 -1 -1 -1  4 -1  5  0 -1 -1]\n",
      " [-1 -1 -1 -1 -1  5 -1 -1 -1 -1 -1 -1  3 -1  0  4]\n",
      " [ 2 -1  3 -1 -1 -1  4  5 -1 -1 -1 -1  1 -1 -1  0]]\n"
     ]
    }
   ],
   "source": [
    "import numpy as np\n",
    "import pandas as pd\n",
    "import random\n",
    "import smtplib\n",
    "from email.mime.multipart import MIMEMultipart\n",
    "from email.mime.text import MIMEText\n",
    "\n",
    "matrix = np.loadtxt('matrix.txt')\n",
    "matrix = matrix.astype(int)\n",
    "print(matrix)\n"
   ]
  },
  {
   "cell_type": "code",
   "execution_count": 244,
   "id": "2820a0bd",
   "metadata": {},
   "outputs": [],
   "source": [
    "h, w = matrix.shape\n",
    "possible_partners = [[] for _ in range(h)]\n",
    "for i in range(h):\n",
    "    inner_list = []\n",
    "    for j in range(w):\n",
    "        if matrix[i][j] == -1:\n",
    "            inner_list.append(j)\n",
    "    possible_partners[i] = inner_list\n",
    "\n",
    "# Choose a partner that a person hasn't had before\n",
    "def choose_partner(possible_partners, gifter):\n",
    "    partner = random.choice(possible_partners[gifter])\n",
    "    return partner\n",
    "\n",
    "# Check to see if that person has already been used\n",
    "def is_valid(matrix, reciever, year, tried):\n",
    "    for i in range(0,16):\n",
    "        if reciever in tried[i]:\n",
    "            return False\n",
    "        if matrix.T[reciever][i] == year:\n",
    "            return False\n",
    "        \n",
    "    return True\n"
   ]
  },
  {
   "cell_type": "code",
   "execution_count": 253,
   "id": "0fd9a09f",
   "metadata": {},
   "outputs": [
    {
     "name": "stdout",
     "output_type": "stream",
     "text": [
      "[[ 0  9  4 14 13 12  7 11  3  1  8  2  6  5 10 -1]\n",
      " [ 4  0 12  9  1 13  5 -1 10  7  2  8 14 11  3  6]\n",
      " [ 9  8  0  4  2  7 11 14 12  3  6  5 -1  1 13 10]\n",
      " [14  3  2  0 -1  6  8  9  1  4 11 12 10  7  5 13]\n",
      " [ 3 12  8  7  0  9 -1 13 14  2 10  1 11  4  6  5]\n",
      " [ 5 -1 10  8 12  0  9  1  4  6  3 -1 13 14  7 11]\n",
      " [11 14  6  5 10  4  0 12  7  8 13  3  2  9 -1  1]\n",
      " [ 1  6  7 11  5 -1 13  0  2 10  9 14  4  8 12  3]\n",
      " [ 7 13  1 12  3 10 14  4  0  9  5  6  8 -1 11  2]\n",
      " [10  2  5 13  9 11  1  6  8  0 -1  4 12  3 14  7]\n",
      " [ 6  5 13  3  4  8  2 10 11 -1  0  7  9 12 -1 14]\n",
      " [13  4  9  1  6 14 10  3  5 11 12  0  7  2 -1  8]\n",
      " [ 8  1 11  6  7  3 12  2 -1  5 14 10  0 13  4  9]\n",
      " [-1 10 14  2  8  1  3  7  6 13  4 11  5  0  9 12]\n",
      " [12  7 -1 -1 11  5  6  8  9 14 -1 13  3 10  0  4]\n",
      " [ 2 11  3 10 14 -1  4  5 13 12  7  9  1  6  8  0]]\n"
     ]
    }
   ],
   "source": [
    "tried = [[] for _ in range(h)]\n",
    "\n",
    "def assign_partners(matrix, possible_partners, year, tried, index=0):\n",
    "    if index == len(matrix):\n",
    "        return True  # All partners have been assigned\n",
    "    random.shuffle(possible_partners[index])\n",
    "    for reciever in possible_partners[index]:\n",
    "        if is_valid(matrix, reciever, year, tried):\n",
    "            matrix[index][reciever] = year\n",
    "            tried[index].append(reciever)\n",
    "            possible_partners[index].remove(reciever)\n",
    "\n",
    "            if assign_partners(matrix, possible_partners, year, tried, index + 1):\n",
    "                return True  # Recurse\n",
    "\n",
    "            matrix[index][reciever] = -1  # Undo assignment\n",
    "            tried[index].remove(reciever)  # Undo assignment\n",
    "            possible_partners[index].append(reciever)\n",
    "\n",
    "    return False\n",
    "index = 0\n",
    "remaining_years = [i for i in range(6,16)]\n",
    "for year in remaining_years:\n",
    "    assign_partners(matrix, possible_partners, year, tried, index)\n",
    "\n",
    "print(matrix)"
   ]
  },
  {
   "cell_type": "code",
   "execution_count": 254,
   "id": "213229e9",
   "metadata": {},
   "outputs": [
    {
     "name": "stdout",
     "output_type": "stream",
     "text": [
      "[[15], [7], [12], [4], [6], [1, 11], [14], [5], [13], [10], [14, 9], [14], [8], [0], [10, 3, 2], [5]]\n"
     ]
    }
   ],
   "source": [
    "print(possible_partners)"
   ]
  },
  {
   "cell_type": "code",
   "execution_count": 221,
   "id": "d10b09db",
   "metadata": {},
   "outputs": [],
   "source": [
    "# Run this cell to save the current matrix to a text file \n",
    "# to use for the next year\n",
    "\n",
    "np.savetxt('matrix_year_6.txt', matrix, fmt='%d')"
   ]
  },
  {
   "cell_type": "code",
   "execution_count": 255,
   "id": "6e93567e",
   "metadata": {},
   "outputs": [
    {
     "ename": "KeyError",
     "evalue": "13",
     "output_type": "error",
     "traceback": [
      "\u001b[1;31m---------------------------------------------------------------------------\u001b[0m",
      "\u001b[1;31mKeyError\u001b[0m                                  Traceback (most recent call last)",
      "\u001b[1;32m~\\AppData\\Local\\Temp\\ipykernel_15532\\656938440.py\u001b[0m in \u001b[0;36m<module>\u001b[1;34m\u001b[0m\n\u001b[0;32m     18\u001b[0m     \u001b[1;32mfor\u001b[0m \u001b[0mj\u001b[0m \u001b[1;32min\u001b[0m \u001b[0mrange\u001b[0m\u001b[1;33m(\u001b[0m\u001b[1;36m0\u001b[0m\u001b[1;33m,\u001b[0m\u001b[1;36m16\u001b[0m\u001b[1;33m)\u001b[0m\u001b[1;33m:\u001b[0m\u001b[1;33m\u001b[0m\u001b[1;33m\u001b[0m\u001b[0m\n\u001b[0;32m     19\u001b[0m         \u001b[1;32mif\u001b[0m \u001b[0mmatrix\u001b[0m\u001b[1;33m[\u001b[0m\u001b[0mi\u001b[0m\u001b[1;33m]\u001b[0m\u001b[1;33m[\u001b[0m\u001b[0mj\u001b[0m\u001b[1;33m]\u001b[0m \u001b[1;33m==\u001b[0m \u001b[0mcurrent_year\u001b[0m\u001b[1;33m:\u001b[0m\u001b[1;33m\u001b[0m\u001b[1;33m\u001b[0m\u001b[0m\n\u001b[1;32m---> 20\u001b[1;33m             \u001b[0mmsg\u001b[0m\u001b[1;33m[\u001b[0m\u001b[1;34m'To'\u001b[0m\u001b[1;33m]\u001b[0m \u001b[1;33m=\u001b[0m \u001b[0memail_dictionary\u001b[0m\u001b[1;33m[\u001b[0m\u001b[0mi\u001b[0m\u001b[1;33m]\u001b[0m\u001b[1;33m\u001b[0m\u001b[1;33m\u001b[0m\u001b[0m\n\u001b[0m\u001b[0;32m     21\u001b[0m             \u001b[0mmsg\u001b[0m\u001b[1;33m[\u001b[0m\u001b[1;34m'Subject'\u001b[0m\u001b[1;33m]\u001b[0m \u001b[1;33m=\u001b[0m \u001b[1;34m\"Secret Santa\"\u001b[0m\u001b[1;33m\u001b[0m\u001b[1;33m\u001b[0m\u001b[0m\n\u001b[0;32m     22\u001b[0m             \u001b[0mperson\u001b[0m \u001b[1;33m=\u001b[0m \u001b[0mname_dictionary\u001b[0m\u001b[1;33m[\u001b[0m\u001b[0mj\u001b[0m\u001b[1;33m]\u001b[0m\u001b[1;33m\u001b[0m\u001b[1;33m\u001b[0m\u001b[0m\n",
      "\u001b[1;31mKeyError\u001b[0m: 13"
     ]
    }
   ],
   "source": [
    "name_dictionary = {0:\"Logan\", 1:\"Matt\", 2:\"Jake\", 3:\"Kyle\", 4:\"Manny\", 5:\"Brett\", 6:\"Garrett\", 7:\"Steve\", 8:\"Nicky\",\n",
    "                  9:\"Joel\", 10:\"Nico\", 11:\"Will\", 12:\"Paul\", 13:\"Riley\", 14:\"Ben\", 15:\"Samie\"}\n",
    "email_dictionary = {0:\"#\", 1:\"#\", 2:\"#\", 3:\"#\",\n",
    "                   4:\"#\", 5:\"#\", 6:\"#\",\n",
    "                   7:\"#\", 8:\"#\", 9:\"#\", 10:\"#\",\n",
    "                   11:\"#\", 12:\"#\", 13:\"#\", 14:\"#\",\n",
    "                   15:\"#\"}\n",
    "\n",
    "password = \"####\"\n",
    "msg['From'] = \"#\"\n",
    "server = smtplib.SMTP('smtp.gmail.com',587)\n",
    "server.starttls()\n",
    "server.login(msg['From'], password)\n",
    "\n",
    "current_year = 6\n",
    " Put this in for loop to send all emails\n",
    " for i in range(0,16):\n",
    "     for j in range(0,16):\n",
    "         if matrix[i][j] == current_year:\n",
    "             msg = MIMEMultipart()\n",
    "             msg['To'] = email_dictionary[i]\n",
    "             msg['Subject'] = \"Secret Santa\"\n",
    "             person = name_dictionary[j]\n",
    "             message = f\"You have {person} for secret santa\"\n",
    "             msg.attach(MIMEText(message, 'plain'))\n",
    "             server.sendmail(msg['From'], msg['To'], msg.as_string())\n",
    " server.quit()\n",
    "            \n",
    "            \n"
   ]
  },
  {
   "cell_type": "code",
   "execution_count": null,
   "id": "835c9521",
   "metadata": {},
   "outputs": [],
   "source": []
  },
  {
   "cell_type": "code",
   "execution_count": null,
   "id": "196b7255",
   "metadata": {},
   "outputs": [],
   "source": []
  }
 ],
 "metadata": {
  "kernelspec": {
   "display_name": "Python 3 (ipykernel)",
   "language": "python",
   "name": "python3"
  },
  "language_info": {
   "codemirror_mode": {
    "name": "ipython",
    "version": 3
   },
   "file_extension": ".py",
   "mimetype": "text/x-python",
   "name": "python",
   "nbconvert_exporter": "python",
   "pygments_lexer": "ipython3",
   "version": "3.9.16"
  }
 },
 "nbformat": 4,
 "nbformat_minor": 5
}
